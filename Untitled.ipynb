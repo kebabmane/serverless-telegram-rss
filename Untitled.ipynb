{
 "cells": [
  {
   "cell_type": "code",
   "execution_count": 26,
   "metadata": {},
   "outputs": [],
   "source": [
    "import json"
   ]
  },
  {
   "cell_type": "code",
   "execution_count": 27,
   "metadata": {},
   "outputs": [],
   "source": [
    "payload = '{\"eventID\": \"07c2ee20f0e5494d011d79a2d0f63bc5\", \"eventName\": \"INSERT\", \"eventVersion\": \"1.1\", \"eventSource\": \"aws:dynamodb\", \"awsRegion\": \"us-east-1\", \"dynamodb\": {\"ApproximateCreationDateTime\": 1583188317.0, \"Keys\": {\"id\": {\"S\": \"ring of fire\"}}, \"NewImage\": {\"id\": {\"S\": \"ring of fire\"}}, \"SequenceNumber\": \"27102100000000033939235478\", \"SizeBytes\": 28, \"StreamViewType\": \"NEW_AND_OLD_IMAGES\"}, \"eventSourceARN\": \"arn:aws:dynamodb:us-east-1:910048630908:table/ozbargain-bot-dev/stream/2020-02-26T05:07:35.819\"}'"
   ]
  },
  {
   "cell_type": "code",
   "execution_count": 28,
   "metadata": {},
   "outputs": [
    {
     "name": "stdout",
     "output_type": "stream",
     "text": [
      "{\"eventID\": \"07c2ee20f0e5494d011d79a2d0f63bc5\", \"eventName\": \"INSERT\", \"eventVersion\": \"1.1\", \"eventSource\": \"aws:dynamodb\", \"awsRegion\": \"us-east-1\", \"dynamodb\": {\"ApproximateCreationDateTime\": 1583188317.0, \"Keys\": {\"id\": {\"S\": \"ring of fire\"}}, \"NewImage\": {\"id\": {\"S\": \"ring of fire\"}}, \"SequenceNumber\": \"27102100000000033939235478\", \"SizeBytes\": 28, \"StreamViewType\": \"NEW_AND_OLD_IMAGES\"}, \"eventSourceARN\": \"arn:aws:dynamodb:us-east-1:910048630908:table/ozbargain-bot-dev/stream/2020-02-26T05:07:35.819\"}\n"
     ]
    }
   ],
   "source": [
    "print(payload)"
   ]
  },
  {
   "cell_type": "code",
   "execution_count": 29,
   "metadata": {},
   "outputs": [],
   "source": [
    "d = json.loads(payload)"
   ]
  },
  {
   "cell_type": "code",
   "execution_count": 32,
   "metadata": {},
   "outputs": [
    {
     "name": "stdout",
     "output_type": "stream",
     "text": [
      "ring of fire\n"
     ]
    }
   ],
   "source": [
    "print(d['dynamodb']['Keys']['id']['S'])"
   ]
  },
  {
   "cell_type": "code",
   "execution_count": null,
   "metadata": {},
   "outputs": [],
   "source": []
  },
  {
   "cell_type": "code",
   "execution_count": null,
   "metadata": {},
   "outputs": [],
   "source": []
  }
 ],
 "metadata": {
  "kernelspec": {
   "display_name": "Python 3",
   "language": "python",
   "name": "python3"
  },
  "language_info": {
   "codemirror_mode": {
    "name": "ipython",
    "version": 3
   },
   "file_extension": ".py",
   "mimetype": "text/x-python",
   "name": "python",
   "nbconvert_exporter": "python",
   "pygments_lexer": "ipython3",
   "version": "3.7.6"
  }
 },
 "nbformat": 4,
 "nbformat_minor": 2
}
